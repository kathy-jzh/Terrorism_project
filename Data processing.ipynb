{
 "cells": [
  {
   "cell_type": "code",
   "execution_count": 1,
   "metadata": {},
   "outputs": [],
   "source": [
    "import numpy as np\n",
    "import pandas as pd\n",
    "import scipy\n",
    "import datetime\n",
    "import seaborn as sns\n",
    "import os\n",
    "import matplotlib.pyplot as plt\n",
    "from PIL import Image\n",
    "from sklearn.model_selection import train_test_split\n",
    "from sklearn.ensemble import RandomForestClassifier\n",
    "from sklearn.model_selection import cross_val_score\n",
    "from sklearn.metrics import confusion_matrix\n",
    "from sklearn.model_selection import GridSearchCV\n",
    "from sklearn.ensemble import BaggingClassifier\n",
    "%matplotlib inline"
   ]
  },
  {
   "cell_type": "code",
   "execution_count": 2,
   "metadata": {},
   "outputs": [],
   "source": [
    "filename = 'data.csv'\n",
    "df_origin = pd.read_csv(filename, sep=',', engine='python')"
   ]
  },
  {
   "cell_type": "code",
   "execution_count": 3,
   "metadata": {},
   "outputs": [
    {
     "data": {
      "text/plain": [
       "Index(['eventid', 'iyear', 'imonth', 'iday', 'approxdate', 'extended',\n",
       "       'resolution', 'country', 'country_txt', 'region',\n",
       "       ...\n",
       "       'addnotes', 'scite1', 'scite2', 'scite3', 'dbsource', 'INT_LOG',\n",
       "       'INT_IDEO', 'INT_MISC', 'INT_ANY', 'related'],\n",
       "      dtype='object', length=135)"
      ]
     },
     "execution_count": 3,
     "metadata": {},
     "output_type": "execute_result"
    }
   ],
   "source": [
    "df_origin.columns"
   ]
  },
  {
   "cell_type": "markdown",
   "metadata": {},
   "source": [
    "### data representation: category explain"
   ]
  },
  {
   "cell_type": "code",
   "execution_count": 4,
   "metadata": {},
   "outputs": [
    {
     "data": {
      "text/plain": [
       "array(['Unknown', 'Explosives', 'Incendiary', 'Firearms', 'Chemical',\n",
       "       'Melee', 'Sabotage Equipment',\n",
       "       'Vehicle (not to include vehicle-borne explosives, i.e., car or truck bombs)',\n",
       "       'Fake Weapons', 'Radiological', 'Other', 'Biological'],\n",
       "      dtype=object)"
      ]
     },
     "execution_count": 4,
     "metadata": {},
     "output_type": "execute_result"
    }
   ],
   "source": [
    "df_origin['weaptype1_txt'].unique()"
   ]
  },
  {
   "cell_type": "code",
   "execution_count": 5,
   "metadata": {},
   "outputs": [
    {
     "data": {
      "text/plain": [
       "array(['Assassination', 'Hostage Taking (Kidnapping)',\n",
       "       'Bombing/Explosion', 'Facility/Infrastructure Attack',\n",
       "       'Armed Assault', 'Hijacking', 'Unknown', 'Unarmed Assault',\n",
       "       'Hostage Taking (Barricade Incident)'], dtype=object)"
      ]
     },
     "execution_count": 5,
     "metadata": {},
     "output_type": "execute_result"
    }
   ],
   "source": [
    "df_origin['attacktype1_txt'].unique()"
   ]
  },
  {
   "cell_type": "code",
   "execution_count": 6,
   "metadata": {},
   "outputs": [
    {
     "data": {
      "text/plain": [
       "array(['Private Citizens & Property', 'Government (Diplomatic)',\n",
       "       'Journalists & Media', 'Police', 'Utilities', 'Military',\n",
       "       'Government (General)', 'Airports & Aircraft', 'Business',\n",
       "       'Educational Institution', 'Violent Political Party',\n",
       "       'Religious Figures/Institutions', 'Unknown', 'Transportation',\n",
       "       'Tourists', 'NGO', 'Telecommunication', 'Food or Water Supply',\n",
       "       'Terrorists/Non-State Militia', 'Other', 'Maritime',\n",
       "       'Abortion Related'], dtype=object)"
      ]
     },
     "execution_count": 6,
     "metadata": {},
     "output_type": "execute_result"
    }
   ],
   "source": [
    "df_origin['targtype1_txt'].unique()"
   ]
  },
  {
   "cell_type": "code",
   "execution_count": 7,
   "metadata": {},
   "outputs": [
    {
     "data": {
      "text/plain": [
       "205"
      ]
     },
     "execution_count": 7,
     "metadata": {},
     "output_type": "execute_result"
    }
   ],
   "source": [
    "len(df_origin['country_txt'].unique())"
   ]
  },
  {
   "cell_type": "code",
   "execution_count": 8,
   "metadata": {},
   "outputs": [
    {
     "data": {
      "text/plain": [
       "array(['MANO-D', '23rd of September Communist League', 'Unknown', ...,\n",
       "       'Fatoni Warriors', 'Minorities of Metropolitan Attacks',\n",
       "       'Baloch Republican Party'], dtype=object)"
      ]
     },
     "execution_count": 8,
     "metadata": {},
     "output_type": "execute_result"
    }
   ],
   "source": [
    "df_origin['gname'].unique()"
   ]
  },
  {
   "cell_type": "markdown",
   "metadata": {},
   "source": [
    "### data preprocessing"
   ]
  },
  {
   "cell_type": "markdown",
   "metadata": {},
   "source": [
    "#### data cleaning"
   ]
  },
  {
   "cell_type": "code",
   "execution_count": 9,
   "metadata": {},
   "outputs": [],
   "source": [
    "df = df_origin[['iyear','imonth','iday','country','region','latitude','longitude',\n",
    "                'success','attacktype1','individual','nkill','nwound','suicide',\n",
    "                'weaptype1','targtype1','gname','guncertain1','specificity','vicinity','multiple']]"
   ]
  },
  {
   "cell_type": "code",
   "execution_count": 10,
   "metadata": {},
   "outputs": [],
   "source": [
    "# drop nan value rows\n",
    "df = df.dropna(axis=0,how='any')\n",
    "\n",
    "# drop nonsense date rows\n",
    "df = df[df['iday']>=1]\n",
    "df = df[df['iday']<=31]\n",
    "df = df[df['imonth']<=12]\n",
    "df = df[df['imonth']>=1]\n",
    "\n",
    "# drop unclear unknown weapon type, unknown attack type, unknown target type\n",
    "df = df[df['weaptype1']!=13]\n",
    "df = df[df['targtype1']!=20]\n",
    "df = df[df['attacktype1']!=9]"
   ]
  },
  {
   "cell_type": "code",
   "execution_count": 11,
   "metadata": {},
   "outputs": [
    {
     "data": {
      "text/plain": [
       "0.7878871270453682"
      ]
     },
     "execution_count": 11,
     "metadata": {},
     "output_type": "execute_result"
    }
   ],
   "source": [
    "# the remaning proportion\n",
    "len(df) / len(df_origin)"
   ]
  },
  {
   "cell_type": "markdown",
   "metadata": {},
   "source": [
    "#### create column weekday"
   ]
  },
  {
   "cell_type": "code",
   "execution_count": 12,
   "metadata": {},
   "outputs": [],
   "source": [
    "from datetime import datetime"
   ]
  },
  {
   "cell_type": "code",
   "execution_count": 13,
   "metadata": {},
   "outputs": [],
   "source": [
    "df['date'] = df['iyear'].map(str) +'-' + df['imonth'].map(str) +'-'+ df['iday'].map(str)\n",
    "df['date'] = df['date'].apply(lambda x : datetime.strptime(x, '%Y-%m-%d'))\n",
    "df['weekday'] = df['date'].apply(lambda x: x.isoweekday())"
   ]
  },
  {
   "cell_type": "markdown",
   "metadata": {},
   "source": [
    "#### data glimpse"
   ]
  },
  {
   "cell_type": "code",
   "execution_count": 14,
   "metadata": {},
   "outputs": [
    {
     "data": {
      "text/html": [
       "<div>\n",
       "<style scoped>\n",
       "    .dataframe tbody tr th:only-of-type {\n",
       "        vertical-align: middle;\n",
       "    }\n",
       "\n",
       "    .dataframe tbody tr th {\n",
       "        vertical-align: top;\n",
       "    }\n",
       "\n",
       "    .dataframe thead th {\n",
       "        text-align: right;\n",
       "    }\n",
       "</style>\n",
       "<table border=\"1\" class=\"dataframe\">\n",
       "  <thead>\n",
       "    <tr style=\"text-align: right;\">\n",
       "      <th></th>\n",
       "      <th>iyear</th>\n",
       "      <th>imonth</th>\n",
       "      <th>iday</th>\n",
       "      <th>country</th>\n",
       "      <th>region</th>\n",
       "      <th>latitude</th>\n",
       "      <th>longitude</th>\n",
       "      <th>success</th>\n",
       "      <th>attacktype1</th>\n",
       "      <th>individual</th>\n",
       "      <th>...</th>\n",
       "      <th>suicide</th>\n",
       "      <th>weaptype1</th>\n",
       "      <th>targtype1</th>\n",
       "      <th>gname</th>\n",
       "      <th>guncertain1</th>\n",
       "      <th>specificity</th>\n",
       "      <th>vicinity</th>\n",
       "      <th>multiple</th>\n",
       "      <th>date</th>\n",
       "      <th>weekday</th>\n",
       "    </tr>\n",
       "  </thead>\n",
       "  <tbody>\n",
       "    <tr>\n",
       "      <th>5</th>\n",
       "      <td>1970</td>\n",
       "      <td>1</td>\n",
       "      <td>1</td>\n",
       "      <td>217</td>\n",
       "      <td>1</td>\n",
       "      <td>37.005105</td>\n",
       "      <td>-89.176269</td>\n",
       "      <td>1</td>\n",
       "      <td>2</td>\n",
       "      <td>0</td>\n",
       "      <td>...</td>\n",
       "      <td>0</td>\n",
       "      <td>5</td>\n",
       "      <td>3</td>\n",
       "      <td>Black Nationalists</td>\n",
       "      <td>0.0</td>\n",
       "      <td>1.0</td>\n",
       "      <td>0</td>\n",
       "      <td>0.0</td>\n",
       "      <td>1970-01-01</td>\n",
       "      <td>4</td>\n",
       "    </tr>\n",
       "    <tr>\n",
       "      <th>6</th>\n",
       "      <td>1970</td>\n",
       "      <td>1</td>\n",
       "      <td>2</td>\n",
       "      <td>218</td>\n",
       "      <td>3</td>\n",
       "      <td>-34.891151</td>\n",
       "      <td>-56.187214</td>\n",
       "      <td>0</td>\n",
       "      <td>1</td>\n",
       "      <td>0</td>\n",
       "      <td>...</td>\n",
       "      <td>0</td>\n",
       "      <td>5</td>\n",
       "      <td>3</td>\n",
       "      <td>Tupamaros (Uruguay)</td>\n",
       "      <td>0.0</td>\n",
       "      <td>1.0</td>\n",
       "      <td>0</td>\n",
       "      <td>0.0</td>\n",
       "      <td>1970-01-02</td>\n",
       "      <td>5</td>\n",
       "    </tr>\n",
       "    <tr>\n",
       "      <th>7</th>\n",
       "      <td>1970</td>\n",
       "      <td>1</td>\n",
       "      <td>2</td>\n",
       "      <td>217</td>\n",
       "      <td>1</td>\n",
       "      <td>37.791927</td>\n",
       "      <td>-122.225906</td>\n",
       "      <td>1</td>\n",
       "      <td>3</td>\n",
       "      <td>0</td>\n",
       "      <td>...</td>\n",
       "      <td>0</td>\n",
       "      <td>6</td>\n",
       "      <td>21</td>\n",
       "      <td>Unknown</td>\n",
       "      <td>0.0</td>\n",
       "      <td>1.0</td>\n",
       "      <td>0</td>\n",
       "      <td>0.0</td>\n",
       "      <td>1970-01-02</td>\n",
       "      <td>5</td>\n",
       "    </tr>\n",
       "    <tr>\n",
       "      <th>8</th>\n",
       "      <td>1970</td>\n",
       "      <td>1</td>\n",
       "      <td>2</td>\n",
       "      <td>217</td>\n",
       "      <td>1</td>\n",
       "      <td>43.076592</td>\n",
       "      <td>-89.412488</td>\n",
       "      <td>1</td>\n",
       "      <td>7</td>\n",
       "      <td>0</td>\n",
       "      <td>...</td>\n",
       "      <td>0</td>\n",
       "      <td>8</td>\n",
       "      <td>4</td>\n",
       "      <td>New Year's Gang</td>\n",
       "      <td>0.0</td>\n",
       "      <td>1.0</td>\n",
       "      <td>0</td>\n",
       "      <td>0.0</td>\n",
       "      <td>1970-01-02</td>\n",
       "      <td>5</td>\n",
       "    </tr>\n",
       "    <tr>\n",
       "      <th>9</th>\n",
       "      <td>1970</td>\n",
       "      <td>1</td>\n",
       "      <td>3</td>\n",
       "      <td>217</td>\n",
       "      <td>1</td>\n",
       "      <td>43.072950</td>\n",
       "      <td>-89.386694</td>\n",
       "      <td>1</td>\n",
       "      <td>7</td>\n",
       "      <td>0</td>\n",
       "      <td>...</td>\n",
       "      <td>0</td>\n",
       "      <td>8</td>\n",
       "      <td>2</td>\n",
       "      <td>New Year's Gang</td>\n",
       "      <td>0.0</td>\n",
       "      <td>1.0</td>\n",
       "      <td>0</td>\n",
       "      <td>0.0</td>\n",
       "      <td>1970-01-03</td>\n",
       "      <td>6</td>\n",
       "    </tr>\n",
       "  </tbody>\n",
       "</table>\n",
       "<p>5 rows × 22 columns</p>\n",
       "</div>"
      ],
      "text/plain": [
       "   iyear  imonth  iday  country  region   latitude   longitude  success  \\\n",
       "5   1970       1     1      217       1  37.005105  -89.176269        1   \n",
       "6   1970       1     2      218       3 -34.891151  -56.187214        0   \n",
       "7   1970       1     2      217       1  37.791927 -122.225906        1   \n",
       "8   1970       1     2      217       1  43.076592  -89.412488        1   \n",
       "9   1970       1     3      217       1  43.072950  -89.386694        1   \n",
       "\n",
       "   attacktype1  individual   ...     suicide  weaptype1  targtype1  \\\n",
       "5            2           0   ...           0          5          3   \n",
       "6            1           0   ...           0          5          3   \n",
       "7            3           0   ...           0          6         21   \n",
       "8            7           0   ...           0          8          4   \n",
       "9            7           0   ...           0          8          2   \n",
       "\n",
       "                 gname  guncertain1 specificity  vicinity  multiple  \\\n",
       "5   Black Nationalists          0.0         1.0         0       0.0   \n",
       "6  Tupamaros (Uruguay)          0.0         1.0         0       0.0   \n",
       "7              Unknown          0.0         1.0         0       0.0   \n",
       "8      New Year's Gang          0.0         1.0         0       0.0   \n",
       "9      New Year's Gang          0.0         1.0         0       0.0   \n",
       "\n",
       "        date  weekday  \n",
       "5 1970-01-01        4  \n",
       "6 1970-01-02        5  \n",
       "7 1970-01-02        5  \n",
       "8 1970-01-02        5  \n",
       "9 1970-01-03        6  \n",
       "\n",
       "[5 rows x 22 columns]"
      ]
     },
     "execution_count": 14,
     "metadata": {},
     "output_type": "execute_result"
    }
   ],
   "source": [
    "df[:5]"
   ]
  },
  {
   "cell_type": "markdown",
   "metadata": {},
   "source": [
    "### Logistic Regression: Predict success"
   ]
  },
  {
   "cell_type": "code",
   "execution_count": null,
   "metadata": {},
   "outputs": [],
   "source": []
  },
  {
   "cell_type": "markdown",
   "metadata": {},
   "source": [
    "### Random Forest: Predict success"
   ]
  },
  {
   "cell_type": "markdown",
   "metadata": {},
   "source": [
    "#### Verify Correlation Matrix"
   ]
  },
  {
   "cell_type": "code",
   "execution_count": 15,
   "metadata": {},
   "outputs": [
    {
     "data": {
      "text/plain": [
       "<matplotlib.axes._subplots.AxesSubplot at 0x1a14d8a320>"
      ]
     },
     "execution_count": 15,
     "metadata": {},
     "output_type": "execute_result"
    },
    {
     "data": {
      "image/png": "[encoded data removed]",
      "text/plain": [
       "<Figure size 720x720 with 2 Axes>"
      ]
     },
     "metadata": {},
     "output_type": "display_data"
    }
   ],
   "source": [
    "corrmat = df.corr()\n",
    "f, ax = plt.subplots(figsize=(10, 10))\n",
    "sns.heatmap(corrmat, vmax=1, square=True)"
   ]
  },
  {
   "cell_type": "markdown",
   "metadata": {},
   "source": [
    "#### Ensemble Random Forest Model"
   ]
  },
  {
   "cell_type": "code",
   "execution_count": 16,
   "metadata": {},
   "outputs": [
    {
     "name": "stdout",
     "output_type": "stream",
     "text": [
      "Parameters: {'max_depth': 10, 'min_samples_leaf': 4, 'min_samples_split': 4, 'n_estimators': 15}\n"
     ]
    }
   ],
   "source": [
    "X = df[['weekday','country','region','attacktype1','individual','suicide','weaptype1','targtype1','guncertain1','specificity','vicinity','multiple']]\n",
    "Y = df['success']\n",
    "\n",
    "x_train, x_test, y_train, y_test = train_test_split(X, Y, test_size=0.2)\n",
    "parameters = {\n",
    "     'n_estimators':(5,10,15), #the number of trees\n",
    "     'max_depth':(4,6,8,10),\n",
    "     'min_samples_split': (4,6,8),\n",
    "     'min_samples_leaf': (4,8,12,16),\n",
    "}\n",
    "\n",
    "RFC = GridSearchCV(RandomForestClassifier(),parameters,cv=3,iid=False)\n",
    "RFC.fit(x_train, y_train)\n",
    "par = RFC.best_params_\n",
    "print('Parameters:',par)"
   ]
  },
  {
   "cell_type": "code",
   "execution_count": 17,
   "metadata": {},
   "outputs": [
    {
     "name": "stdout",
     "output_type": "stream",
     "text": [
      "Accuracy:  0.9080367433900318\n",
      "Confusion Matrix: \n",
      " [[  320  2521]\n",
      " [  112 25678]]\n"
     ]
    }
   ],
   "source": [
    "RFC = RandomForestClassifier(max_depth=par['max_depth'],min_samples_leaf=par['min_samples_split'],\n",
    "                             min_samples_split=par['min_samples_split'],n_estimators=par['n_estimators'])\n",
    "RFC.fit(x_train, y_train)\n",
    "print('Accuracy: ', RFC.score(x_test,y_test))\n",
    "\n",
    "y_pred = RFC.predict(x_test)\n",
    "cfm = confusion_matrix(y_test,y_pred)\n",
    "print('Confusion Matrix: \\n',cfm)"
   ]
  },
  {
   "cell_type": "markdown",
   "metadata": {},
   "source": [
    "#### Feature Importance"
   ]
  },
  {
   "cell_type": "code",
   "execution_count": 18,
   "metadata": {},
   "outputs": [
    {
     "data": {
      "text/plain": [
       "Text(0.5,0,'Relative Importance')"
      ]
     },
     "execution_count": 18,
     "metadata": {},
     "output_type": "execute_result"
    },
    {
     "data": {
      "image/png": "[encoded data removed]",
      "text/plain": [
       "<Figure size 432x288 with 1 Axes>"
      ]
     },
     "metadata": {},
     "output_type": "display_data"
    }
   ],
   "source": [
    "feature_names = [i for i in X.columns]\n",
    "importances = RFC.feature_importances_\n",
    "indices = np.argsort(importances)\n",
    "\n",
    "plt.title('Feature Importances for Success')\n",
    "plt.barh(range(len(indices)), importances[indices], color='b', align='center')\n",
    "plt.yticks(range(len(indices)),feature_names)\n",
    "plt.xlabel('Relative Importance')"
   ]
  },
  {
   "cell_type": "markdown",
   "metadata": {},
   "source": [
    "#### Bootstrapping"
   ]
  },
  {
   "cell_type": "code",
   "execution_count": 19,
   "metadata": {},
   "outputs": [],
   "source": [
    "parameters = {\n",
    "     'n_estimators':(5,10,15), #the number of trees\n",
    "     'max_samples':(10,20,40),\n",
    "     'max_features':(3,5,10),\n",
    "}\n",
    "\n",
    "model = GridSearchCV(BaggingClassifier(),parameters,cv=3,iid=False)\n",
    "model.fit(x_train, np.ravel(y_train))\n",
    "bpar = model.best_params_"
   ]
  },
  {
   "cell_type": "code",
   "execution_count": 20,
   "metadata": {},
   "outputs": [
    {
     "name": "stdout",
     "output_type": "stream",
     "text": [
      "Accuracy: 0.9007718906080822\n"
     ]
    }
   ],
   "source": [
    "BC = BaggingClassifier(max_features=bpar['max_features'],max_samples=bpar['max_samples'],\n",
    "                       n_estimators=bpar['n_estimators'])\n",
    "BC.fit(x_train,y_train)\n",
    "print('Accuracy:',BC.score(x_test,y_test))"
   ]
  }
 ],
 "metadata": {
  "kernelspec": {
   "display_name": "Python 3",
   "language": "python",
   "name": "python3"
  },
  "language_info": {
   "codemirror_mode": {
    "name": "ipython",
    "version": 3
   },
   "file_extension": ".py",
   "mimetype": "text/x-python",
   "name": "python",
   "nbconvert_exporter": "python",
   "pygments_lexer": "ipython3",
   "version": "3.6.5"
  },
  "toc": {
   "base_numbering": 1,
   "nav_menu": {},
   "number_sections": true,
   "sideBar": true,
   "skip_h1_title": false,
   "title_cell": "Table of Contents",
   "title_sidebar": "Contents",
   "toc_cell": false,
   "toc_position": {},
   "toc_section_display": true,
   "toc_window_display": false
  }
 },
 "nbformat": 4,
 "nbformat_minor": 2
}
